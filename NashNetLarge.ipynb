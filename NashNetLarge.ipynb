{
  "nbformat": 4,
  "nbformat_minor": 0,
  "metadata": {
    "colab": {
      "provenance": [],
      "include_colab_link": true
    },
    "kernelspec": {
      "name": "python3",
      "display_name": "Python 3"
    },
    "language_info": {
      "name": "python"
    },
    "accelerator": "GPU",
    "gpuClass": "standard"
  },
  "cells": [
    {
      "cell_type": "markdown",
      "metadata": {
        "id": "view-in-github",
        "colab_type": "text"
      },
      "source": [
        "<a href=\"https://colab.research.google.com/github/gourabdatta2384/Python_basics_191-15-2384/blob/main/NashNetLarge.ipynb\" target=\"_parent\"><img src=\"https://colab.research.google.com/assets/colab-badge.svg\" alt=\"Open In Colab\"/></a>"
      ]
    },
    {
      "cell_type": "markdown",
      "source": [
        "# Accessing Dataset from Drive"
      ],
      "metadata": {
        "id": "byZYo8hwy_Ej"
      }
    },
    {
      "cell_type": "code",
      "execution_count": null,
      "metadata": {
        "id": "YMVyum3W0Hyv",
        "colab": {
          "base_uri": "https://localhost:8080/"
        },
        "outputId": "b17e6a95-ae6b-454b-bd7b-d32dbb3a9a86"
      },
      "outputs": [
        {
          "output_type": "stream",
          "name": "stdout",
          "text": [
            "Mounted at /content/drive\n"
          ]
        }
      ],
      "source": [
        "from google.colab import drive\n",
        "drive.mount('/content/drive')"
      ]
    },
    {
      "cell_type": "markdown",
      "source": [
        "# Installing Required Libraries"
      ],
      "metadata": {
        "id": "gPvgdz68zBfI"
      }
    },
    {
      "cell_type": "code",
      "source": [
        "!pip install  visualkeras\n",
        "!pip3 install ann_visualizer\n",
        "!pip install graphviz"
      ],
      "metadata": {
        "id": "-1m-P4qx02Ds",
        "colab": {
          "base_uri": "https://localhost:8080/"
        },
        "outputId": "b5089dc9-da39-43c1-b847-f3d228165952"
      },
      "execution_count": null,
      "outputs": [
        {
          "output_type": "stream",
          "name": "stdout",
          "text": [
            "Looking in indexes: https://pypi.org/simple, https://us-python.pkg.dev/colab-wheels/public/simple/\n",
            "Collecting visualkeras\n",
            "  Downloading visualkeras-0.0.2-py3-none-any.whl (12 kB)\n",
            "Requirement already satisfied: pillow>=6.2.0 in /usr/local/lib/python3.7/dist-packages (from visualkeras) (7.1.2)\n",
            "Collecting aggdraw>=1.3.11\n",
            "  Downloading aggdraw-1.3.15-cp37-cp37m-manylinux_2_17_x86_64.manylinux2014_x86_64.whl (989 kB)\n",
            "\u001b[K     |████████████████████████████████| 989 kB 38.5 MB/s \n",
            "\u001b[?25hRequirement already satisfied: numpy>=1.18.1 in /usr/local/lib/python3.7/dist-packages (from visualkeras) (1.21.6)\n",
            "Installing collected packages: aggdraw, visualkeras\n",
            "Successfully installed aggdraw-1.3.15 visualkeras-0.0.2\n",
            "Looking in indexes: https://pypi.org/simple, https://us-python.pkg.dev/colab-wheels/public/simple/\n",
            "Collecting ann_visualizer\n",
            "  Downloading ann_visualizer-2.5.tar.gz (4.7 kB)\n",
            "Building wheels for collected packages: ann-visualizer\n",
            "  Building wheel for ann-visualizer (setup.py) ... \u001b[?25l\u001b[?25hdone\n",
            "  Created wheel for ann-visualizer: filename=ann_visualizer-2.5-py3-none-any.whl size=4168 sha256=b288784e8112b9dc1e247ae1f7a785163aa6f868b6c859a19d1d5e212da45705\n",
            "  Stored in directory: /root/.cache/pip/wheels/1b/fc/58/2ab1c3b30350105929308becddda4fb59b1358e54f985e1f4a\n",
            "Successfully built ann-visualizer\n",
            "Installing collected packages: ann-visualizer\n",
            "Successfully installed ann-visualizer-2.5\n",
            "Looking in indexes: https://pypi.org/simple, https://us-python.pkg.dev/colab-wheels/public/simple/\n",
            "Requirement already satisfied: graphviz in /usr/local/lib/python3.7/dist-packages (0.10.1)\n"
          ]
        }
      ]
    },
    {
      "cell_type": "markdown",
      "source": [
        "# LIBRARIES"
      ],
      "metadata": {
        "id": "4YTjowG5zGN6"
      }
    },
    {
      "cell_type": "code",
      "source": [
        "from tensorflow.keras.preprocessing.image import ImageDataGenerator, img_to_array, load_img\n",
        "from tensorflow.keras.models import Sequential , Model\n",
        "from tensorflow.keras.layers import Activation, Dropout, Flatten, Dense, Conv2D, MaxPooling2D\n",
        "from tensorflow.keras.applications import EfficientNetB0\n",
        "import matplotlib.pyplot as plt\n",
        "from glob import glob\n",
        "import pandas as pd\n",
        "import numpy as np\n",
        "import seaborn as sns\n",
        "import matplotlib.pyplot as plt\n",
        "import warnings\n",
        "warnings.filterwarnings('ignore')\n",
        "from sklearn.metrics import classification_report, confusion_matrix\n",
        "import visualkeras\n",
        "import os\n",
        "from tqdm import tqdm\n",
        "import cv2\n",
        "from sklearn.utils import shuffle\n",
        "from sklearn.model_selection import train_test_split\n",
        "import tensorflow as tf\n",
        "from tensorflow.keras.callbacks import EarlyStopping, ReduceLROnPlateau, TensorBoard, ModelCheckpoint"
      ],
      "metadata": {
        "id": "o2NJZidT06kR"
      },
      "execution_count": null,
      "outputs": []
    },
    {
      "cell_type": "markdown",
      "source": [
        "# Data Preprocessing"
      ],
      "metadata": {
        "id": "Avc2iFE4zLUf"
      }
    },
    {
      "cell_type": "code",
      "source": [
        "labels = ['COVID19','NORMAL','PNEUMONIA','TURBERCULOSIS','LUNGCANCER']"
      ],
      "metadata": {
        "id": "7GiKvs4k1TEZ"
      },
      "execution_count": null,
      "outputs": []
    },
    {
      "cell_type": "code",
      "source": [
        "X_full = []\n",
        "y_full = []\n",
        "image_size = 224\n",
        "for i in labels:\n",
        "    folderPath = os.path.join('/content/drive/MyDrive/DefenseE/defense dataset/all clean',i)\n",
        "    for j in tqdm(os.listdir(folderPath)):\n",
        "        img = cv2.imread(os.path.join(folderPath,j))\n",
        "        img = cv2.cvtColor(img,cv2.COLOR_BGR2RGB)\n",
        "        img = cv2.resize(img,(image_size, image_size))\n",
        "        X_full.append(img)\n",
        "        y_full.append(i)\n",
        "\n",
        "\n",
        "X_full = np.array(X_full)\n",
        "y_full = np.array(y_full)"
      ],
      "metadata": {
        "id": "IukwWdxy1Tux",
        "colab": {
          "base_uri": "https://localhost:8080/"
        },
        "outputId": "dcd2ffaf-efd0-4221-c90d-67ea78380b7b"
      },
      "execution_count": null,
      "outputs": [
        {
          "output_type": "stream",
          "name": "stderr",
          "text": [
            "100%|██████████| 576/576 [00:44<00:00, 12.85it/s]\n",
            "100%|██████████| 1583/1583 [01:43<00:00, 15.36it/s]\n",
            "100%|██████████| 4273/4273 [02:17<00:00, 31.01it/s]\n",
            "100%|██████████| 700/700 [00:17<00:00, 39.54it/s] \n",
            "100%|██████████| 93/93 [02:03<00:00,  1.33s/it]\n"
          ]
        }
      ]
    },
    {
      "cell_type": "markdown",
      "source": [
        "# Dividing the dataset as a Train & Test"
      ],
      "metadata": {
        "id": "Orq9Z53YzQhX"
      }
    },
    {
      "cell_type": "code",
      "source": [
        "X_train,X_test,y_train,y_test = train_test_split(X_full,y_full, test_size=0.2,random_state=101)"
      ],
      "metadata": {
        "id": "fJEByaVm1Wjo"
      },
      "execution_count": null,
      "outputs": []
    },
    {
      "cell_type": "markdown",
      "source": [
        "# Performing One Hot Encoding on the labels after converting it into numerical values"
      ],
      "metadata": {
        "id": "u8uRGEXSzWAO"
      }
    },
    {
      "cell_type": "code",
      "source": [
        "y_train_new = []\n",
        "for i in y_train:\n",
        "    y_train_new.append(labels.index(i))\n",
        "y_train = y_train_new\n",
        "y_train = tf.keras.utils.to_categorical(y_train)\n",
        "\n",
        "\n",
        "y_test_new = []\n",
        "for i in y_test:\n",
        "    y_test_new.append(labels.index(i))\n",
        "y_test = y_test_new\n",
        "y_test = tf.keras.utils.to_categorical(y_test)"
      ],
      "metadata": {
        "id": "B2YW6Brb1bRw"
      },
      "execution_count": null,
      "outputs": []
    },
    {
      "cell_type": "markdown",
      "source": [
        "# ResNet50"
      ],
      "metadata": {
        "id": "Pw_Vr4BtzZRh"
      }
    },
    {
      "cell_type": "code",
      "source": [
        "ResNet50 = tf.keras.applications.ResNet50(\n",
        "    include_top=False,\n",
        "    weights = 'imagenet',\n",
        "    input_shape=(224,224,3),\n",
        "    )"
      ],
      "metadata": {
        "id": "3VhMSYhZ1d_B",
        "colab": {
          "base_uri": "https://localhost:8080/"
        },
        "outputId": "c10c7cd9-19dd-467d-fb97-680ba470709c"
      },
      "execution_count": null,
      "outputs": [
        {
          "output_type": "stream",
          "name": "stdout",
          "text": [
            "Downloading data from https://storage.googleapis.com/tensorflow/keras-applications/resnet/resnet50_weights_tf_dim_ordering_tf_kernels_notop.h5\n",
            "94765736/94765736 [==============================] - 5s 0us/step\n"
          ]
        }
      ]
    },
    {
      "cell_type": "code",
      "source": [
        "ResNet50.trainable = False"
      ],
      "metadata": {
        "id": "0VwP-HK81fQI"
      },
      "execution_count": null,
      "outputs": []
    },
    {
      "cell_type": "code",
      "source": [
        "model = tf.keras.models.Sequential([\n",
        "  ResNet50,\n",
        "  tf.keras.layers.Flatten(),\n",
        "  tf.keras.layers.Dropout(0.8),\n",
        "  tf.keras.layers.Dense(units=1024, activation='relu'),\n",
        "  tf.keras.layers.Dense(units=512, activation='relu'),\n",
        "  tf.keras.layers.Dense(units=5, activation='softmax'),\n",
        "])"
      ],
      "metadata": {
        "id": "YWoKC-aN1f7a"
      },
      "execution_count": null,
      "outputs": []
    },
    {
      "cell_type": "markdown",
      "source": [
        "# Compiling the Model"
      ],
      "metadata": {
        "id": "BHAtzCbHzeVV"
      }
    },
    {
      "cell_type": "code",
      "source": [
        "model.compile(\n",
        "    optimizer = 'adam',\n",
        "    loss = 'categorical_crossentropy',\n",
        "    metrics = ['accuracy']\n",
        ")\n",
        "model.summary()"
      ],
      "metadata": {
        "id": "zJ4QrFNo1_gz",
        "colab": {
          "base_uri": "https://localhost:8080/"
        },
        "outputId": "52d984e0-fb2b-454e-831e-3cc6ab11e649"
      },
      "execution_count": null,
      "outputs": [
        {
          "output_type": "stream",
          "name": "stdout",
          "text": [
            "Model: \"sequential\"\n",
            "_________________________________________________________________\n",
            " Layer (type)                Output Shape              Param #   \n",
            "=================================================================\n",
            " resnet50 (Functional)       (None, 7, 7, 2048)        23587712  \n",
            "                                                                 \n",
            " flatten (Flatten)           (None, 100352)            0         \n",
            "                                                                 \n",
            " dropout (Dropout)           (None, 100352)            0         \n",
            "                                                                 \n",
            " dense (Dense)               (None, 1024)              102761472 \n",
            "                                                                 \n",
            " dense_1 (Dense)             (None, 512)               524800    \n",
            "                                                                 \n",
            " dense_2 (Dense)             (None, 5)                 2565      \n",
            "                                                                 \n",
            "=================================================================\n",
            "Total params: 126,876,549\n",
            "Trainable params: 103,288,837\n",
            "Non-trainable params: 23,587,712\n",
            "_________________________________________________________________\n"
          ]
        }
      ]
    },
    {
      "cell_type": "code",
      "source": [
        "tensorboard = TensorBoard(log_dir = 'logs')\n",
        "checkpoint = ModelCheckpoint(\"CovidModelEfficientNet.h5\",monitor=\"val_accuracy\",save_best_only=True,mode=\"auto\",verbose=1)\n",
        "reduce_lr = ReduceLROnPlateau(monitor = 'val_accuracy',\n",
        "                              factor = 0.3,\n",
        "                              patience = 2,\n",
        "                              min_delta = 0.001,\n",
        "                              mode='auto',verbose=1)"
      ],
      "metadata": {
        "id": "bKaPQ4WiCSVr"
      },
      "execution_count": null,
      "outputs": []
    },
    {
      "cell_type": "markdown",
      "source": [
        "# Training the Model"
      ],
      "metadata": {
        "id": "7vsXyRSAzh0G"
      }
    },
    {
      "cell_type": "code",
      "source": [
        "hist = model.fit(X_train,\n",
        "                 y_train,\n",
        "                 validation_split=0.1,\n",
        "                 #epochs =15\n",
        "                 epochs =30,\n",
        "                 verbose=1,\n",
        "                 batch_size=32,\n",
        "                 #batch_size=16,\n",
        "                 callbacks=[tensorboard,checkpoint,reduce_lr]\n",
        "                 )"
      ],
      "metadata": {
        "colab": {
          "base_uri": "https://localhost:8080/"
        },
        "id": "UcA9aSFuCWyD",
        "outputId": "76b5dd82-ef83-4479-b7fa-1f7cc01b7505"
      },
      "execution_count": null,
      "outputs": [
        {
          "output_type": "stream",
          "name": "stdout",
          "text": [
            "Epoch 1/30\n",
            "163/163 [==============================] - ETA: 0s - loss: 2.6333 - accuracy: 0.8923\n",
            "Epoch 1: val_accuracy improved from -inf to 0.95675, saving model to CovidModelEfficientNet.h5\n",
            "163/163 [==============================] - 39s 167ms/step - loss: 2.6333 - accuracy: 0.8923 - val_loss: 0.2068 - val_accuracy: 0.9567 - lr: 0.0010\n",
            "Epoch 2/30\n",
            "163/163 [==============================] - ETA: 0s - loss: 0.2183 - accuracy: 0.9542\n",
            "Epoch 2: val_accuracy did not improve from 0.95675\n",
            "163/163 [==============================] - 19s 118ms/step - loss: 0.2183 - accuracy: 0.9542 - val_loss: 0.1794 - val_accuracy: 0.9567 - lr: 0.0010\n",
            "Epoch 3/30\n",
            "163/163 [==============================] - ETA: 0s - loss: 0.1313 - accuracy: 0.9606\n",
            "Epoch 3: val_accuracy improved from 0.95675 to 0.96540, saving model to CovidModelEfficientNet.h5\n",
            "163/163 [==============================] - 25s 155ms/step - loss: 0.1313 - accuracy: 0.9606 - val_loss: 0.1644 - val_accuracy: 0.9654 - lr: 0.0010\n",
            "Epoch 4/30\n",
            "163/163 [==============================] - ETA: 0s - loss: 0.0772 - accuracy: 0.9746\n",
            "Epoch 4: val_accuracy did not improve from 0.96540\n",
            "163/163 [==============================] - 20s 120ms/step - loss: 0.0772 - accuracy: 0.9746 - val_loss: 0.2678 - val_accuracy: 0.9567 - lr: 0.0010\n",
            "Epoch 5/30\n",
            "163/163 [==============================] - ETA: 0s - loss: 0.1168 - accuracy: 0.9715\n",
            "Epoch 5: val_accuracy improved from 0.96540 to 0.96886, saving model to CovidModelEfficientNet.h5\n",
            "163/163 [==============================] - 27s 163ms/step - loss: 0.1168 - accuracy: 0.9715 - val_loss: 0.1672 - val_accuracy: 0.9689 - lr: 0.0010\n",
            "Epoch 6/30\n",
            "163/163 [==============================] - ETA: 0s - loss: 0.0761 - accuracy: 0.9781\n",
            "Epoch 6: val_accuracy did not improve from 0.96886\n",
            "163/163 [==============================] - 21s 131ms/step - loss: 0.0761 - accuracy: 0.9781 - val_loss: 0.1369 - val_accuracy: 0.9654 - lr: 0.0010\n",
            "Epoch 7/30\n",
            "163/163 [==============================] - ETA: 0s - loss: 0.0734 - accuracy: 0.9798\n",
            "Epoch 7: val_accuracy did not improve from 0.96886\n",
            "\n",
            "Epoch 7: ReduceLROnPlateau reducing learning rate to 0.0003000000142492354.\n",
            "163/163 [==============================] - 21s 126ms/step - loss: 0.0734 - accuracy: 0.9798 - val_loss: 0.1979 - val_accuracy: 0.9533 - lr: 0.0010\n",
            "Epoch 8/30\n",
            "163/163 [==============================] - ETA: 0s - loss: 0.0384 - accuracy: 0.9858\n",
            "Epoch 8: val_accuracy improved from 0.96886 to 0.97405, saving model to CovidModelEfficientNet.h5\n",
            "163/163 [==============================] - 27s 166ms/step - loss: 0.0384 - accuracy: 0.9858 - val_loss: 0.1271 - val_accuracy: 0.9740 - lr: 3.0000e-04\n",
            "Epoch 9/30\n",
            "163/163 [==============================] - ETA: 0s - loss: 0.0329 - accuracy: 0.9887\n",
            "Epoch 9: val_accuracy did not improve from 0.97405\n",
            "163/163 [==============================] - 20s 125ms/step - loss: 0.0329 - accuracy: 0.9887 - val_loss: 0.1314 - val_accuracy: 0.9706 - lr: 3.0000e-04\n",
            "Epoch 10/30\n",
            "163/163 [==============================] - ETA: 0s - loss: 0.0206 - accuracy: 0.9913\n",
            "Epoch 10: val_accuracy did not improve from 0.97405\n",
            "\n",
            "Epoch 10: ReduceLROnPlateau reducing learning rate to 9.000000427477062e-05.\n",
            "163/163 [==============================] - 21s 132ms/step - loss: 0.0206 - accuracy: 0.9913 - val_loss: 0.1734 - val_accuracy: 0.9671 - lr: 3.0000e-04\n",
            "Epoch 11/30\n",
            "163/163 [==============================] - ETA: 0s - loss: 0.0166 - accuracy: 0.9927\n",
            "Epoch 11: val_accuracy did not improve from 0.97405\n",
            "163/163 [==============================] - 21s 130ms/step - loss: 0.0166 - accuracy: 0.9927 - val_loss: 0.1486 - val_accuracy: 0.9689 - lr: 9.0000e-05\n",
            "Epoch 12/30\n",
            "163/163 [==============================] - ETA: 0s - loss: 0.0173 - accuracy: 0.9938\n",
            "Epoch 12: val_accuracy did not improve from 0.97405\n",
            "\n",
            "Epoch 12: ReduceLROnPlateau reducing learning rate to 2.700000040931627e-05.\n",
            "163/163 [==============================] - 21s 130ms/step - loss: 0.0173 - accuracy: 0.9938 - val_loss: 0.1299 - val_accuracy: 0.9723 - lr: 9.0000e-05\n",
            "Epoch 13/30\n",
            "163/163 [==============================] - ETA: 0s - loss: 0.0159 - accuracy: 0.9937\n",
            "Epoch 13: val_accuracy did not improve from 0.97405\n",
            "163/163 [==============================] - 21s 129ms/step - loss: 0.0159 - accuracy: 0.9937 - val_loss: 0.1365 - val_accuracy: 0.9723 - lr: 2.7000e-05\n",
            "Epoch 14/30\n",
            "163/163 [==============================] - ETA: 0s - loss: 0.0111 - accuracy: 0.9967\n",
            "Epoch 14: val_accuracy did not improve from 0.97405\n",
            "\n",
            "Epoch 14: ReduceLROnPlateau reducing learning rate to 8.100000013655517e-06.\n",
            "163/163 [==============================] - 21s 130ms/step - loss: 0.0111 - accuracy: 0.9967 - val_loss: 0.1377 - val_accuracy: 0.9723 - lr: 2.7000e-05\n",
            "Epoch 15/30\n",
            "163/163 [==============================] - ETA: 0s - loss: 0.0140 - accuracy: 0.9946\n",
            "Epoch 15: val_accuracy did not improve from 0.97405\n",
            "163/163 [==============================] - 21s 131ms/step - loss: 0.0140 - accuracy: 0.9946 - val_loss: 0.1380 - val_accuracy: 0.9723 - lr: 8.1000e-06\n",
            "Epoch 16/30\n",
            "163/163 [==============================] - ETA: 0s - loss: 0.0139 - accuracy: 0.9958\n",
            "Epoch 16: val_accuracy did not improve from 0.97405\n",
            "\n",
            "Epoch 16: ReduceLROnPlateau reducing learning rate to 2.429999949526973e-06.\n",
            "163/163 [==============================] - 21s 130ms/step - loss: 0.0139 - accuracy: 0.9958 - val_loss: 0.1378 - val_accuracy: 0.9740 - lr: 8.1000e-06\n",
            "Epoch 17/30\n",
            "163/163 [==============================] - ETA: 0s - loss: 0.0191 - accuracy: 0.9929\n",
            "Epoch 17: val_accuracy did not improve from 0.97405\n",
            "163/163 [==============================] - 21s 130ms/step - loss: 0.0191 - accuracy: 0.9929 - val_loss: 0.1381 - val_accuracy: 0.9723 - lr: 2.4300e-06\n",
            "Epoch 18/30\n",
            "163/163 [==============================] - ETA: 0s - loss: 0.0116 - accuracy: 0.9952\n",
            "Epoch 18: val_accuracy did not improve from 0.97405\n",
            "\n",
            "Epoch 18: ReduceLROnPlateau reducing learning rate to 7.289999985005124e-07.\n",
            "163/163 [==============================] - 21s 130ms/step - loss: 0.0116 - accuracy: 0.9952 - val_loss: 0.1384 - val_accuracy: 0.9723 - lr: 2.4300e-06\n",
            "Epoch 19/30\n",
            "163/163 [==============================] - ETA: 0s - loss: 0.0162 - accuracy: 0.9929\n",
            "Epoch 19: val_accuracy did not improve from 0.97405\n",
            "163/163 [==============================] - 20s 125ms/step - loss: 0.0162 - accuracy: 0.9929 - val_loss: 0.1386 - val_accuracy: 0.9723 - lr: 7.2900e-07\n",
            "Epoch 20/30\n",
            "163/163 [==============================] - ETA: 0s - loss: 0.0136 - accuracy: 0.9948\n",
            "Epoch 20: val_accuracy did not improve from 0.97405\n",
            "\n",
            "Epoch 20: ReduceLROnPlateau reducing learning rate to 2.1870000637136398e-07.\n",
            "163/163 [==============================] - 20s 125ms/step - loss: 0.0136 - accuracy: 0.9948 - val_loss: 0.1384 - val_accuracy: 0.9723 - lr: 7.2900e-07\n",
            "Epoch 21/30\n",
            "163/163 [==============================] - ETA: 0s - loss: 0.0139 - accuracy: 0.9946\n",
            "Epoch 21: val_accuracy did not improve from 0.97405\n",
            "163/163 [==============================] - 21s 130ms/step - loss: 0.0139 - accuracy: 0.9946 - val_loss: 0.1386 - val_accuracy: 0.9723 - lr: 2.1870e-07\n",
            "Epoch 22/30\n",
            "163/163 [==============================] - ETA: 0s - loss: 0.0154 - accuracy: 0.9944\n",
            "Epoch 22: val_accuracy did not improve from 0.97405\n",
            "\n",
            "Epoch 22: ReduceLROnPlateau reducing learning rate to 6.561000276406048e-08.\n",
            "163/163 [==============================] - 21s 130ms/step - loss: 0.0154 - accuracy: 0.9944 - val_loss: 0.1386 - val_accuracy: 0.9706 - lr: 2.1870e-07\n",
            "Epoch 23/30\n",
            "163/163 [==============================] - ETA: 0s - loss: 0.0171 - accuracy: 0.9931\n",
            "Epoch 23: val_accuracy did not improve from 0.97405\n",
            "163/163 [==============================] - 20s 125ms/step - loss: 0.0171 - accuracy: 0.9931 - val_loss: 0.1386 - val_accuracy: 0.9706 - lr: 6.5610e-08\n",
            "Epoch 24/30\n",
            "163/163 [==============================] - ETA: 0s - loss: 0.0156 - accuracy: 0.9944\n",
            "Epoch 24: val_accuracy did not improve from 0.97405\n",
            "\n",
            "Epoch 24: ReduceLROnPlateau reducing learning rate to 1.9683000829218145e-08.\n",
            "163/163 [==============================] - 21s 126ms/step - loss: 0.0156 - accuracy: 0.9944 - val_loss: 0.1386 - val_accuracy: 0.9706 - lr: 6.5610e-08\n",
            "Epoch 25/30\n",
            "163/163 [==============================] - ETA: 0s - loss: 0.0113 - accuracy: 0.9948\n",
            "Epoch 25: val_accuracy did not improve from 0.97405\n",
            "163/163 [==============================] - 20s 125ms/step - loss: 0.0113 - accuracy: 0.9948 - val_loss: 0.1386 - val_accuracy: 0.9706 - lr: 1.9683e-08\n",
            "Epoch 26/30\n",
            "163/163 [==============================] - ETA: 0s - loss: 0.0112 - accuracy: 0.9960\n",
            "Epoch 26: val_accuracy did not improve from 0.97405\n",
            "\n",
            "Epoch 26: ReduceLROnPlateau reducing learning rate to 5.904900035602622e-09.\n",
            "163/163 [==============================] - 21s 130ms/step - loss: 0.0112 - accuracy: 0.9960 - val_loss: 0.1386 - val_accuracy: 0.9706 - lr: 1.9683e-08\n",
            "Epoch 27/30\n",
            "163/163 [==============================] - ETA: 0s - loss: 0.0144 - accuracy: 0.9938\n",
            "Epoch 27: val_accuracy did not improve from 0.97405\n",
            "163/163 [==============================] - 21s 130ms/step - loss: 0.0144 - accuracy: 0.9938 - val_loss: 0.1386 - val_accuracy: 0.9706 - lr: 5.9049e-09\n",
            "Epoch 28/30\n",
            "163/163 [==============================] - ETA: 0s - loss: 0.0123 - accuracy: 0.9946\n",
            "Epoch 28: val_accuracy did not improve from 0.97405\n",
            "\n",
            "Epoch 28: ReduceLROnPlateau reducing learning rate to 1.7714700373261393e-09.\n",
            "163/163 [==============================] - 21s 130ms/step - loss: 0.0123 - accuracy: 0.9946 - val_loss: 0.1386 - val_accuracy: 0.9706 - lr: 5.9049e-09\n",
            "Epoch 29/30\n",
            "163/163 [==============================] - ETA: 0s - loss: 0.0145 - accuracy: 0.9938\n",
            "Epoch 29: val_accuracy did not improve from 0.97405\n",
            "163/163 [==============================] - 20s 125ms/step - loss: 0.0145 - accuracy: 0.9938 - val_loss: 0.1386 - val_accuracy: 0.9706 - lr: 1.7715e-09\n",
            "Epoch 30/30\n",
            "163/163 [==============================] - ETA: 0s - loss: 0.0110 - accuracy: 0.9958\n",
            "Epoch 30: val_accuracy did not improve from 0.97405\n",
            "\n",
            "Epoch 30: ReduceLROnPlateau reducing learning rate to 5.314410245205181e-10.\n",
            "163/163 [==============================] - 20s 125ms/step - loss: 0.0110 - accuracy: 0.9958 - val_loss: 0.1386 - val_accuracy: 0.9706 - lr: 1.7715e-09\n"
          ]
        }
      ]
    },
    {
      "cell_type": "markdown",
      "source": [
        "# Accuracy of the Model"
      ],
      "metadata": {
        "id": "txxRRr2K0Nm3"
      }
    },
    {
      "cell_type": "code",
      "source": [
        "results = model.evaluate(X_train,y_train)"
      ],
      "metadata": {
        "id": "htp2vdwX2MyC",
        "colab": {
          "base_uri": "https://localhost:8080/"
        },
        "outputId": "caf32cc8-386a-44c7-a3cf-2fada29bbe75"
      },
      "execution_count": null,
      "outputs": [
        {
          "output_type": "stream",
          "name": "stdout",
          "text": [
            "181/181 [==============================] - 18s 100ms/step - loss: 0.0165 - accuracy: 0.9967\n"
          ]
        }
      ]
    },
    {
      "cell_type": "code",
      "source": [
        "results2 = model.evaluate(X_test,y_test)"
      ],
      "metadata": {
        "id": "fSiHMG_z2Pzk",
        "colab": {
          "base_uri": "https://localhost:8080/"
        },
        "outputId": "47bdf193-1db6-4f7c-e9aa-abe9ffe4d56f"
      },
      "execution_count": null,
      "outputs": [
        {
          "output_type": "stream",
          "name": "stdout",
          "text": [
            "46/46 [==============================] - 5s 104ms/step - loss: 0.1194 - accuracy: 0.9765\n"
          ]
        }
      ]
    },
    {
      "cell_type": "markdown",
      "source": [
        "# Visualize of the Graph"
      ],
      "metadata": {
        "id": "UdYfPTyE0RL7"
      }
    },
    {
      "cell_type": "code",
      "source": [
        "print(hist.history.keys())"
      ],
      "metadata": {
        "id": "8xOt5m4w2RgM",
        "colab": {
          "base_uri": "https://localhost:8080/"
        },
        "outputId": "97790717-ed43-440d-f88b-e96a1abedb14"
      },
      "execution_count": null,
      "outputs": [
        {
          "output_type": "stream",
          "name": "stdout",
          "text": [
            "dict_keys(['loss', 'accuracy', 'val_loss', 'val_accuracy', 'lr'])\n"
          ]
        }
      ]
    },
    {
      "cell_type": "code",
      "source": [
        "plt.figure(figsize=(15,10))\n",
        "plt.plot(hist.history[\"loss\"],label = \"training loss\")\n",
        "plt.plot(hist.history[\"val_loss\"],label = \"validation loss\")\n",
        "plt.title(\"Training Loss & Validation Loss\")\n",
        "plt.xlabel(\"Epoch\")\n",
        "plt.ylabel(\"Loss\")\n",
        "plt.legend()\n",
        "plt.show()\n",
        "\n",
        "plt.figure(figsize=(15,10))\n",
        "plt.plot(hist.history[\"accuracy\"],label = \"training acc\")\n",
        "plt.plot(hist.history[\"val_accuracy\"],label = \"validation acc\")\n",
        "plt.title(\"Training Accuracy & Validation Accuracy\")\n",
        "plt.xlabel(\"Epoch\")\n",
        "plt.ylabel(\"Accuracy\")\n",
        "plt.legend()\n",
        "plt.show()"
      ],
      "metadata": {
        "id": "ojkLA2QD2TkM",
        "colab": {
          "base_uri": "https://localhost:8080/",
          "height": 1000
        },
        "outputId": "b1d0e254-9afa-45f4-c1a1-818e2e864bba"
      },
      "execution_count": null,
      "outputs": [
        {
          "output_type": "display_data",
          "data": {
            "text/plain": [
              "<Figure size 1080x720 with 1 Axes>"
            ],
            "image/png": "[encoded data removed]"
          },
          "metadata": {
            "needs_background": "light"
          }
        },
        {
          "output_type": "display_data",
          "data": {
            "text/plain": [
              "<Figure size 1080x720 with 1 Axes>"
            ],
            "image/png": "[encoded data removed]"
          },
          "metadata": {
            "needs_background": "light"
          }
        }
      ]
    },
    {
      "cell_type": "markdown",
      "source": [
        "# Visualize of the Graph"
      ],
      "metadata": {
        "id": "7HIKSlff0U1v"
      }
    },
    {
      "cell_type": "code",
      "source": [
        "pred = model.predict(X_test)\n",
        "pred = np.argmax(pred,axis=1)\n",
        "y_test_new = np.argmax(y_test,axis=1)"
      ],
      "metadata": {
        "id": "9L96zva82YxM",
        "colab": {
          "base_uri": "https://localhost:8080/"
        },
        "outputId": "c1eca8d4-8546-4bd5-b20c-e786f6e76da6"
      },
      "execution_count": null,
      "outputs": [
        {
          "output_type": "stream",
          "name": "stdout",
          "text": [
            "46/46 [==============================] - 5s 94ms/step\n"
          ]
        }
      ]
    },
    {
      "cell_type": "code",
      "source": [
        "print(classification_report(y_test_new,pred))"
      ],
      "metadata": {
        "id": "G0kObNu_2b5U",
        "colab": {
          "base_uri": "https://localhost:8080/"
        },
        "outputId": "51f1fcf7-9107-4df9-fa8e-6ed7bb23730d"
      },
      "execution_count": null,
      "outputs": [
        {
          "output_type": "stream",
          "name": "stdout",
          "text": [
            "              precision    recall  f1-score   support\n",
            "\n",
            "           0       0.98      0.96      0.97       114\n",
            "           1       0.96      0.95      0.96       315\n",
            "           2       0.98      0.98      0.98       859\n",
            "           3       0.99      1.00      1.00       146\n",
            "           4       0.92      1.00      0.96        11\n",
            "\n",
            "    accuracy                           0.98      1445\n",
            "   macro avg       0.97      0.98      0.97      1445\n",
            "weighted avg       0.98      0.98      0.98      1445\n",
            "\n"
          ]
        }
      ]
    },
    {
      "cell_type": "markdown",
      "source": [
        "# CONFUSION MATRIX"
      ],
      "metadata": {
        "id": "dxh0CpeR0YZH"
      }
    },
    {
      "cell_type": "code",
      "source": [
        "colors_dark = [\"#1F1F1F\", \"#313131\", '#636363', '#AEAEAE', '#DADADA']\n",
        "colors_red = [\"#331313\", \"#582626\", '#9E1717', '#D35151', '#E9B4B4']\n",
        "colors_green = ['#01411C','#4B6F44','#4F7942','#74C365','#D0F0C0']\n",
        "\n",
        "sns.palplot(colors_dark)\n",
        "sns.palplot(colors_green)\n",
        "sns.palplot(colors_red)"
      ],
      "metadata": {
        "id": "o3IPq2nI2en4",
        "colab": {
          "base_uri": "https://localhost:8080/",
          "height": 233
        },
        "outputId": "742b19cb-6299-4ef0-ac7f-a2ab1fd5301e"
      },
      "execution_count": null,
      "outputs": [
        {
          "output_type": "display_data",
          "data": {
            "text/plain": [
              "<Figure size 360x72 with 1 Axes>"
            ],
            "image/png": "[encoded data removed]"
          },
          "metadata": {
            "needs_background": "light"
          }
        },
        {
          "output_type": "display_data",
          "data": {
            "text/plain": [
              "<Figure size 360x72 with 1 Axes>"
            ],
            "image/png": "[encoded data removed]"
          },
          "metadata": {
            "needs_background": "light"
          }
        },
        {
          "output_type": "display_data",
          "data": {
            "text/plain": [
              "<Figure size 360x72 with 1 Axes>"
            ],
            "image/png": "[encoded data removed]"
          },
          "metadata": {
            "needs_background": "light"
          }
        }
      ]
    },
    {
      "cell_type": "code",
      "source": [
        "fig,ax=plt.subplots(1,1,figsize=(14,7))\n",
        "\n",
        "sns.heatmap(confusion_matrix(y_test_new,pred),\n",
        "            ax=ax,\n",
        "            xticklabels=labels,\n",
        "            yticklabels=labels,\n",
        "            annot=True,\n",
        "            cmap=colors_green[::-1],\n",
        "            alpha=0.7,\n",
        "            linewidths=2,\n",
        "            linecolor=colors_dark[3]\n",
        "            )\n",
        "\n",
        "fig.text(s='Confusion Matrix',\n",
        "         size=18,\n",
        "         fontweight='bold',\n",
        "         fontname='monospace',\n",
        "         color=colors_dark[1],\n",
        "         y=0.92,\n",
        "         x=0.28,\n",
        "         alpha=0.8)\n",
        "print(confusion_matrix(y_test_new,pred))\n",
        "plt.show()"
      ],
      "metadata": {
        "id": "f-vI3IXm2hI8",
        "colab": {
          "base_uri": "https://localhost:8080/",
          "height": 550
        },
        "outputId": "bd308121-0c0f-41e6-f6b4-5cab0d3bd150"
      },
      "execution_count": null,
      "outputs": [
        {
          "output_type": "stream",
          "name": "stdout",
          "text": [
            "[[110   0   2   1   1]\n",
            " [  0 298  17   0   0]\n",
            " [  2  11 846   0   0]\n",
            " [  0   0   0 146   0]\n",
            " [  0   0   0   0  11]]\n"
          ]
        },
        {
          "output_type": "display_data",
          "data": {
            "text/plain": [
              "<Figure size 1008x504 with 2 Axes>"
            ],
            "image/png": "[encoded data removed]"
          },
          "metadata": {
            "needs_background": "light"
          }
        }
      ]
    },
    {
      "cell_type": "code",
      "source": [],
      "metadata": {
        "id": "bDK1pQgX2leK"
      },
      "execution_count": null,
      "outputs": []
    }
  ]
}